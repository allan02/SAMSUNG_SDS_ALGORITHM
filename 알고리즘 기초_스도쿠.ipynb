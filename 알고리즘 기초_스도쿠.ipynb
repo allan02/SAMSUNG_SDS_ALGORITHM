{
 "cells": [
  {
   "cell_type": "code",
   "execution_count": 6,
   "metadata": {},
   "outputs": [
    {
     "name": "stdout",
     "output_type": "stream",
     "text": [
      "0 3 5 4 6 9 2 7 8\n",
      "7 8 2 1 0 5 6 0 9\n",
      "0 6 0 2 7 8 1 3 5\n",
      "3 2 1 0 4 6 8 9 7\n",
      "8 0 4 9 1 3 5 0 6\n",
      "5 9 6 8 2 0 4 1 3\n",
      "9 1 7 6 5 2 0 8 0\n",
      "6 0 3 7 0 1 9 5 2\n",
      "2 5 8 3 9 4 7 6 0\n",
      "1 3 5 4 6 9 2 7 8\n",
      "7 8 2 1 3 5 6 4 9\n",
      "4 6 9 2 7 8 1 3 5\n",
      "3 2 1 5 4 6 8 9 7\n",
      "8 7 4 9 1 3 5 2 6\n",
      "5 9 6 8 2 7 4 1 3\n",
      "9 1 7 6 5 2 3 8 4\n",
      "6 4 3 7 8 1 9 5 2\n",
      "2 5 8 3 9 4 7 6 1\n"
     ]
    }
   ],
   "source": [
    "sudoku = [list(map(int, input().split())) for _ in range(9)]\n",
    "\n",
    "#해결해야될 칸만 받음\n",
    "\n",
    "zeros = [(i, j) for i in range(9) for j in range(9) if sudoku[i][j] == 0]\n",
    "\n",
    "def is_promising(i, j):\n",
    "    promising = [1,2,3,4,5,6,7,8,9]  \n",
    "    \n",
    "    #행열 검사\n",
    "    for k in range(9):\n",
    "        if sudoku[i][k] in promising:\n",
    "            promising.remove(sudoku[i][k])\n",
    "        if sudoku[k][j] in promising:\n",
    "            promising.remove(sudoku[k][j])\n",
    "            \n",
    "    #3*3 박스 검사\n",
    "    i //= 3\n",
    "    j //= 3\n",
    "    for p in range(i*3, (i+1)*3):\n",
    "        for q in range(j*3, (j+1)*3):\n",
    "            if sudoku[p][q] in promising:\n",
    "                promising.remove(sudoku[p][q])\n",
    "    \n",
    "    return promising\n",
    "\n",
    "flag = False #답이 출력되었는가?\n",
    "def dfs(x):\n",
    "    global flag\n",
    "    \n",
    "    if flag: #이미 답이 출력된 경우\n",
    "        return\n",
    "        \n",
    "    if x == len(zeros): #마지막 0까지 다 채웠을 경우\n",
    "        for row in sudoku:\n",
    "            print(*row)\n",
    "        flag = True #답 출력\n",
    "        return\n",
    "        \n",
    "    else:    \n",
    "        (i, j) = zeros[x]\n",
    "        promising = is_promising(i, j) #유망한 숫자들을 받음\n",
    "        \n",
    "        for num in promising:\n",
    "            sudoku[i][j] = num #유망한 숫자 중 하나를 넣어줌\n",
    "            dfs(x + 1) #다음 0으로 넘어감\n",
    "            sudoku[i][j] = 0 #초기화 (정답이 없을 경우를 대비)\n",
    "dfs(0)"
   ]
  },
  {
   "cell_type": "code",
   "execution_count": null,
   "metadata": {},
   "outputs": [],
   "source": []
  },
  {
   "cell_type": "code",
   "execution_count": null,
   "metadata": {},
   "outputs": [],
   "source": []
  },
  {
   "cell_type": "code",
   "execution_count": null,
   "metadata": {},
   "outputs": [],
   "source": []
  },
  {
   "cell_type": "code",
   "execution_count": null,
   "metadata": {},
   "outputs": [],
   "source": []
  }
 ],
 "metadata": {
  "kernelspec": {
   "display_name": "Python 3",
   "language": "python",
   "name": "python3"
  },
  "language_info": {
   "codemirror_mode": {
    "name": "ipython",
    "version": 3
   },
   "file_extension": ".py",
   "mimetype": "text/x-python",
   "name": "python",
   "nbconvert_exporter": "python",
   "pygments_lexer": "ipython3",
   "version": "3.8.5"
  }
 },
 "nbformat": 4,
 "nbformat_minor": 4
}
