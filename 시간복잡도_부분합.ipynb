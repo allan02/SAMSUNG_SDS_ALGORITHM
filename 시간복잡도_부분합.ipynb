{
 "cells": [
  {
   "cell_type": "code",
   "execution_count": 10,
   "metadata": {},
   "outputs": [
    {
     "name": "stdout",
     "output_type": "stream",
     "text": [
      "10 100\n",
      "5 1 3 5 10 7 4 9 2 8\n",
      "0\n"
     ]
    }
   ],
   "source": [
    "n, s = map(int, input().split())\n",
    "\n",
    "array = list(map(int, input().split()))\n",
    "\n",
    "answer = int(1e9)\n",
    "\n",
    "a = 0\n",
    "b = 1\n",
    "\n",
    "temp = array[a]\n",
    "\n",
    "while a < len(array):\n",
    "#    print(temp, a, b, answer)\n",
    "    \n",
    "    if temp >= s:\n",
    "        answer = min(answer, b - a)\n",
    "        temp -= array[a]\n",
    "        a += 1\n",
    "    else:\n",
    "        if b >= len(array):\n",
    "            break\n",
    "        \n",
    "        temp += array[b]\n",
    "        b += 1\n",
    "#    print(temp, a, b, answer)\n",
    "#    print()\n",
    "        \n",
    "if answer == int(1e9):\n",
    "    print(0)\n",
    "else: print(answer)"
   ]
  }
 ],
 "metadata": {
  "kernelspec": {
   "display_name": "Python 3",
   "language": "python",
   "name": "python3"
  },
  "language_info": {
   "codemirror_mode": {
    "name": "ipython",
    "version": 3
   },
   "file_extension": ".py",
   "mimetype": "text/x-python",
   "name": "python",
   "nbconvert_exporter": "python",
   "pygments_lexer": "ipython3",
   "version": "3.8.5"
  }
 },
 "nbformat": 4,
 "nbformat_minor": 4
}
