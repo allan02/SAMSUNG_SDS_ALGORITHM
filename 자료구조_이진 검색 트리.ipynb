{
 "cells": [
  {
   "cell_type": "code",
   "execution_count": 1,
   "metadata": {},
   "outputs": [
    {
     "name": "stdout",
     "output_type": "stream",
     "text": [
      "50\n",
      "30\n",
      "24\n",
      "5\n",
      "28\n",
      "45\n",
      "98\n",
      "52\n",
      "60\n",
      "e\n",
      "5\n",
      "28\n",
      "24\n",
      "45\n",
      "30\n",
      "60\n",
      "52\n",
      "98\n",
      "50\n"
     ]
    }
   ],
   "source": [
    "answer = []\n",
    "\n",
    "import sys\n",
    "sys.setrecursionlimit(20000)\n",
    "\n",
    "def sol(array, left, right):\n",
    "    if left > right:\n",
    "        return\n",
    "    \n",
    "    root = array[left]\n",
    "    temp = right + 1\n",
    "    \n",
    "    for i in range(left + 1, right + 1):\n",
    "        if root < array[i]:\n",
    "            temp = i\n",
    "            break\n",
    "            \n",
    "    sol(array, left + 1, temp - 1)\n",
    "    sol(array, temp, right)\n",
    "    answer.append(root)\n",
    "        \n",
    "\n",
    "values = []\n",
    "\n",
    "while True:\n",
    "    try:\n",
    "        values.append(int(input()))\n",
    "    except:\n",
    "        break\n",
    "    \n",
    "sol(values, 0, len(values) - 1)\n",
    "\n",
    "print('\\n'.join(map(str,answer)))  "
   ]
  }
 ],
 "metadata": {
  "kernelspec": {
   "display_name": "Python 3",
   "language": "python",
   "name": "python3"
  },
  "language_info": {
   "codemirror_mode": {
    "name": "ipython",
    "version": 3
   },
   "file_extension": ".py",
   "mimetype": "text/x-python",
   "name": "python",
   "nbconvert_exporter": "python",
   "pygments_lexer": "ipython3",
   "version": "3.8.5"
  }
 },
 "nbformat": 4,
 "nbformat_minor": 4
}
