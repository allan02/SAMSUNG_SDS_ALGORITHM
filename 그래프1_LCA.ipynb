{
 "cells": [
  {
   "cell_type": "code",
   "execution_count": 13,
   "metadata": {},
   "outputs": [
    {
     "name": "stdout",
     "output_type": "stream",
     "text": [
      "15\n",
      "1 2\n",
      "1 3\n",
      "2 4\n",
      "3 7\n",
      "6 2\n",
      "3 8\n",
      "4 9\n",
      "2 5\n",
      "5 11\n",
      "7 13\n",
      "10 4\n",
      "11 15\n",
      "12 5\n",
      "14 7\n",
      "6\n",
      "6 11\n",
      "2\n",
      "10 9\n",
      "4\n",
      "2 6\n",
      "2\n",
      "7 6\n",
      "1\n",
      "8 13\n",
      "3\n",
      "8 15\n",
      "1\n"
     ]
    }
   ],
   "source": [
    "import sys\n",
    "sys.setrecursionlimit(int(1e5))\n",
    "\n",
    "n = int(input())\n",
    "\n",
    "parent = [0] * (n + 1)\n",
    "d = [0] * (n + 1)\n",
    "c = [0] * (n + 1)\n",
    "graph = [[] for _ in range(n + 1)]\n",
    "\n",
    "for _ in range(n - 1):\n",
    "    a, b = map(int, input().split())\n",
    "    graph[a].append(b)\n",
    "    graph[b].append(a)\n",
    "\n",
    "\n",
    "def dfs(x, depth):\n",
    "    c[x] = [True]\n",
    "    d[x] = depth\n",
    "    for y in graph[x]:\n",
    "        if c[y]:\n",
    "            continue\n",
    "        parent[y] = x\n",
    "        dfs(y, depth + 1)\n",
    "        \n",
    "def lca(a, b):\n",
    "    while d[a] != d[b]:\n",
    "        if d[a] > d[b]:\n",
    "            a = parent[a]\n",
    "        else:\n",
    "            b = parent[b]\n",
    "    while a!= b:\n",
    "        a = parent[a]\n",
    "        b = parent[b]\n",
    "        \n",
    "    return a\n",
    "\n",
    "dfs(1, 0)\n",
    "\n",
    "m = int(input())\n",
    "\n",
    "for i in range(m):\n",
    "    a, b = map(int, input().split())\n",
    "    print(lca(a, b))\n",
    "    \n",
    "\n"
   ]
  }
 ],
 "metadata": {
  "kernelspec": {
   "display_name": "Python 3",
   "language": "python",
   "name": "python3"
  },
  "language_info": {
   "codemirror_mode": {
    "name": "ipython",
    "version": 3
   },
   "file_extension": ".py",
   "mimetype": "text/x-python",
   "name": "python",
   "nbconvert_exporter": "python",
   "pygments_lexer": "ipython3",
   "version": "3.8.5"
  }
 },
 "nbformat": 4,
 "nbformat_minor": 4
}
