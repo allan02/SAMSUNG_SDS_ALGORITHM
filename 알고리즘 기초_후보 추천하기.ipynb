{
 "cells": [
  {
   "cell_type": "code",
   "execution_count": 46,
   "metadata": {},
   "outputs": [
    {
     "name": "stdout",
     "output_type": "stream",
     "text": [
      "3\n",
      "14\n",
      "2 1 4 3 5 6 2 7 2 100 100 54 54 50\n",
      "50 54 100\n"
     ]
    }
   ],
   "source": [
    "from collections import deque\n",
    "\n",
    "n = int(input())\n",
    "\n",
    "m = int(input())\n",
    "\n",
    "pic = []\n",
    "\n",
    "array = list(map(int, input().split()))\n",
    "array = deque(array)\n",
    "index = 0\n",
    "\n",
    "while array:\n",
    "    temp = array.popleft()\n",
    "    \n",
    "    for i in range(len(pic)):\n",
    "        if pic[i][0] == temp:\n",
    "            pic[i][1] += 1\n",
    "            break\n",
    "    else:\n",
    "        if len(pic) == n:\n",
    "            pic.pop()\n",
    "        pic.append([temp, 1, index])\n",
    "        index += 1\n",
    "        \n",
    "    pic = sorted(pic, key = lambda x : (-x[1], -x[2]))\n",
    "\n",
    "answer = []\n",
    "\n",
    "if len(pic) > n:\n",
    "    pic.pop()\n",
    "        \n",
    "for i in pic:\n",
    "    answer.append(i[0])\n",
    "\n",
    "answer.sort()\n",
    "print(' '.join(map(str, answer)))\n"
   ]
  },
  {
   "cell_type": "code",
   "execution_count": 12,
   "metadata": {},
   "outputs": [],
   "source": [
    "array = []\n",
    "array.append((1, 2))"
   ]
  }
 ],
 "metadata": {
  "kernelspec": {
   "display_name": "Python 3",
   "language": "python",
   "name": "python3"
  },
  "language_info": {
   "codemirror_mode": {
    "name": "ipython",
    "version": 3
   },
   "file_extension": ".py",
   "mimetype": "text/x-python",
   "name": "python",
   "nbconvert_exporter": "python",
   "pygments_lexer": "ipython3",
   "version": "3.8.5"
  }
 },
 "nbformat": 4,
 "nbformat_minor": 4
}
