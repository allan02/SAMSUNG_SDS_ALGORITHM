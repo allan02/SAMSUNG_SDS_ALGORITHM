{
 "cells": [
  {
   "cell_type": "code",
   "execution_count": 15,
   "metadata": {},
   "outputs": [
    {
     "name": "stdout",
     "output_type": "stream",
     "text": [
      "3\n",
      "1 2 3\n",
      "4 5 6\n",
      "4 9 0\n",
      "18 6\n"
     ]
    }
   ],
   "source": [
    "n = int(input())\n",
    "\n",
    "array = []\n",
    "\n",
    "l = [0] * 3\n",
    "s = [0] * 3\n",
    "\n",
    "for i in range(n):\n",
    "    temp = list(map(int, input().split()))\n",
    "    if i == 0 :\n",
    "        l = temp\n",
    "        s = temp\n",
    "    else:\n",
    "        l = [max(l[0] + temp[0], l[1] + temp[0]),\n",
    "        max(l[0] + temp[1], l[1] + temp[1], l[2] + temp[1]),\n",
    "        max(l[1] + temp[2], l[2] + temp[2])]\n",
    "    \n",
    "        s = [min(s[0] + temp[0], s[1] + temp[0]),\n",
    "            min(s[0] + temp[1], s[1] + temp[1], s[2] + temp[1]),\n",
    "            min(s[1] + temp[2], s[2] + temp[2])]\n",
    "\n",
    "\n",
    "print(max(l), min(s))"
   ]
  }
 ],
 "metadata": {
  "kernelspec": {
   "display_name": "Python 3",
   "language": "python",
   "name": "python3"
  },
  "language_info": {
   "codemirror_mode": {
    "name": "ipython",
    "version": 3
   },
   "file_extension": ".py",
   "mimetype": "text/x-python",
   "name": "python",
   "nbconvert_exporter": "python",
   "pygments_lexer": "ipython3",
   "version": "3.8.5"
  }
 },
 "nbformat": 4,
 "nbformat_minor": 4
}
