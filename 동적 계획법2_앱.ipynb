{
 "cells": [
  {
   "cell_type": "code",
   "execution_count": null,
   "metadata": {},
   "outputs": [],
   "source": [
    "N, M = map(int, input().split())\n",
    "A = [0] + list(map(int, input().split())) #byte\n",
    "C = [0] + list(map(int, input().split())) #cost\n",
    "dp = [[0 for _ in range(sum(C)+1)] for _ in range(N+1)] #냅색알고리즘이 실행될 dp\n",
    "result = sum(C) #열의 최댓값\n",
    "\n",
    "for i in range(1, N+1):\n",
    "    byte = A[i]\n",
    "    cost = C[i]\n",
    "    \n",
    "    for j in range(1, sum(C) + 1):\n",
    "        if j < cost: #현재 앱을 비활성화할만큼의 cost가 충분하지 않을 경우\n",
    "            dp[i][j] = dp[i-1][j]\n",
    "        else:\n",
    "            #같은 cost 내에서 현재 앱을 끈 뒤의 byte와 현재 앱을 끄지 않은 뒤의 byte를 비교\n",
    "            dp[i][j] = max(byte + dp[i-1][j-cost], dp[i-1][j])\n",
    "            \n",
    "        if dp[i][j] >= M: #조건이 충족된다면\n",
    "            result = min(result, j) #더 작은 cost값으로 갱신\n",
    "if M != 0:\n",
    "    print(result)\n",
    "else:\n",
    "    print(0)\n"
   ]
  }
 ],
 "metadata": {
  "kernelspec": {
   "display_name": "Python 3",
   "language": "python",
   "name": "python3"
  },
  "language_info": {
   "codemirror_mode": {
    "name": "ipython",
    "version": 3
   },
   "file_extension": ".py",
   "mimetype": "text/x-python",
   "name": "python",
   "nbconvert_exporter": "python",
   "pygments_lexer": "ipython3",
   "version": "3.8.5"
  }
 },
 "nbformat": 4,
 "nbformat_minor": 4
}
