{
 "cells": [
  {
   "cell_type": "code",
   "execution_count": 1,
   "metadata": {},
   "outputs": [
    {
     "name": "stdout",
     "output_type": "stream",
     "text": [
      "5 3\n",
      "5 4 3 2 1\n",
      "[5, 9, 12, 14, 15]\n",
      "[5, 9, 12, 14, 15]\n",
      "1 3\n",
      "12\n",
      "12\n",
      "2 4\n",
      "9\n",
      "9\n",
      "5 5\n",
      "1\n",
      "1\n"
     ]
    }
   ],
   "source": [
    "#import sys\n",
    "#input = sys.stdin.readline\n",
    "\n",
    "n, m = map(int, input().split())\n",
    "\n",
    "array = list(map(int, input().split()))\n",
    "\n",
    "for i in range(1, n):\n",
    "    array[i] = array[i] + array[i - 1]\n",
    "    \n",
    "# print(array)\n",
    "for i in range(m):\n",
    "    i, j = map(int, input().split())\n",
    "    if i - 2 < 0:\n",
    "        print(array[j - 1])\n",
    "    else:\n",
    "        print(array[j - 1] - array[i - 2])"
   ]
  },
  {
   "cell_type": "code",
   "execution_count": null,
   "metadata": {},
   "outputs": [],
   "source": []
  }
 ],
 "metadata": {
  "kernelspec": {
   "display_name": "Python 3",
   "language": "python",
   "name": "python3"
  },
  "language_info": {
   "codemirror_mode": {
    "name": "ipython",
    "version": 3
   },
   "file_extension": ".py",
   "mimetype": "text/x-python",
   "name": "python",
   "nbconvert_exporter": "python",
   "pygments_lexer": "ipython3",
   "version": "3.8.5"
  }
 },
 "nbformat": 4,
 "nbformat_minor": 4
}
