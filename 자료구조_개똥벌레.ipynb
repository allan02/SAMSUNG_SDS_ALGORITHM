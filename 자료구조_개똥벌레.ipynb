{
 "cells": [
  {
   "cell_type": "code",
   "execution_count": 5,
   "metadata": {},
   "outputs": [
    {
     "name": "stdout",
     "output_type": "stream",
     "text": [
      "14 5\n",
      "1\n",
      "3\n",
      "4\n",
      "2\n",
      "2\n",
      "4\n",
      "3\n",
      "4\n",
      "3\n",
      "3\n",
      "3\n",
      "2\n",
      "3\n",
      "3\n",
      "6 1\n",
      "\n",
      "5 2\n",
      "\n",
      "1 3\n",
      "\n",
      "7 4\n",
      "\n"
     ]
    }
   ],
   "source": [
    "n, h = map(int, input().split())\n",
    "\n",
    "down = [0] * (h + 1)  # 석순\n",
    "up = [0] * (h + 1)  # 종유석\n",
    "\n",
    "min_count = n  # 파괴해야 하는 장애물의 최소값\n",
    "range_count = 0  # 최소값이 나타나는 구간의 수\n",
    "\n",
    "for i in range(n):\n",
    "    if i % 2 == 0:\n",
    "        down[int(input())] += 1\n",
    "    else:\n",
    "        up[int(input())] += 1\n",
    "\n",
    "for i in range(h - 1, 0, -1):\n",
    "    down[i] += down[i + 1]\n",
    "    up[i] += up[i + 1]\n",
    "\n",
    "for i in range(1, h + 1):\n",
    "\n",
    "    if min_count > (down[i] + up[h - i + 1]):\n",
    "        min_count = (down[i] + up[h - i + 1])\n",
    "        range_count = 1\n",
    "    elif min_count == (down[i] + up[h - i + 1]):\n",
    "        range_count += 1\n",
    "\n",
    "print(min_count, range_count)"
   ]
  }
 ],
 "metadata": {
  "kernelspec": {
   "display_name": "Python 3",
   "language": "python",
   "name": "python3"
  },
  "language_info": {
   "codemirror_mode": {
    "name": "ipython",
    "version": 3
   },
   "file_extension": ".py",
   "mimetype": "text/x-python",
   "name": "python",
   "nbconvert_exporter": "python",
   "pygments_lexer": "ipython3",
   "version": "3.8.5"
  }
 },
 "nbformat": 4,
 "nbformat_minor": 4
}
