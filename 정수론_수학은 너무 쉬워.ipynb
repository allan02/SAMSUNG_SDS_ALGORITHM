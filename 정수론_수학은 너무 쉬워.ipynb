{
 "cells": [
  {
   "cell_type": "code",
   "execution_count": 54,
   "metadata": {},
   "outputs": [
    {
     "name": "stdout",
     "output_type": "stream",
     "text": [
      "5\n",
      "4 5 6 7 8\n",
      "2 2\n"
     ]
    }
   ],
   "source": [
    "n = int(input())\n",
    "array = list(map(int, input().split()))\n",
    "\n",
    "answer = 0\n",
    "answer_gcd = 1\n",
    "\n",
    "max_num = max(array)\n",
    "\n",
    "sosu = [True] * (max_num + 1)\n",
    "\n",
    "x = int(max_num ** 0.5)\n",
    "\n",
    "primelist = []\n",
    "\n",
    "for i in range(2, x):\n",
    "    if sosu[i] == True:\n",
    "        for j in range(i + i, max_num + 1, i):\n",
    "            sosu[j] = False\n",
    "\n",
    "\n",
    "for i in range(2, max_num + 1):\n",
    "    if sosu[i] == True:\n",
    "        primelist.append(i)\n",
    "\n",
    "total = [[] for _ in range(n)]\n",
    "total2 = []\n",
    "\n",
    "count = 0\n",
    "\n",
    "for i in array:\n",
    "    while i != 1:\n",
    "        for j in primelist:\n",
    "            while i % j == 0:\n",
    "                i /= j\n",
    "                total[count].append(j)\n",
    "                total2.append(j)\n",
    "    count += 1\n",
    "\n",
    "\n",
    "for i in primelist:\n",
    "    check = 0\n",
    "    \n",
    "    for j in total2:\n",
    "        if i == j:\n",
    "            check += 1\n",
    "    \n",
    "    if check == 0:\n",
    "        continue\n",
    "    # print(check, i)\n",
    "    \n",
    "    check = check // n\n",
    "        \n",
    "    if check >= 1:\n",
    "        answer_gcd *= (i ** check)\n",
    "        \n",
    "        for k in range(n):\n",
    "            c = 0\n",
    "            for kk in total[k]:\n",
    "                if i == kk:\n",
    "                    c += 1\n",
    "            if check - c >= 1:\n",
    "                answer += (check - c)\n",
    "    \n",
    "    \n",
    "print(answer_gcd, answer)"
   ]
  }
 ],
 "metadata": {
  "kernelspec": {
   "display_name": "Python 3",
   "language": "python",
   "name": "python3"
  },
  "language_info": {
   "codemirror_mode": {
    "name": "ipython",
    "version": 3
   },
   "file_extension": ".py",
   "mimetype": "text/x-python",
   "name": "python",
   "nbconvert_exporter": "python",
   "pygments_lexer": "ipython3",
   "version": "3.8.5"
  }
 },
 "nbformat": 4,
 "nbformat_minor": 4
}
