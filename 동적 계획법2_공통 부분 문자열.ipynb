{
 "cells": [
  {
   "cell_type": "code",
   "execution_count": 4,
   "metadata": {},
   "outputs": [
    {
     "name": "stdout",
     "output_type": "stream",
     "text": [
      "ECADADABRBCRDARA\n",
      "ECADADABRBCRDARA\n",
      "16\n"
     ]
    }
   ],
   "source": [
    "a = list(input())\n",
    "b = list(input())\n",
    "\n",
    "array = [[0] * (len(b) + 1) for _ in range(len(a) + 1)]\n",
    "\n",
    "result = 0\n",
    "\n",
    "for i in range(1, len(a) + 1):\n",
    "    for j in range(1, len(b) + 1):\n",
    "        if a[i - 1] == b[j - 1]:\n",
    "            array[i][j] = array[i - 1][j - 1] + 1\n",
    "            result = max(array[i][j], result)\n",
    "print(result)"
   ]
  }
 ],
 "metadata": {
  "kernelspec": {
   "display_name": "Python 3",
   "language": "python",
   "name": "python3"
  },
  "language_info": {
   "codemirror_mode": {
    "name": "ipython",
    "version": 3
   },
   "file_extension": ".py",
   "mimetype": "text/x-python",
   "name": "python",
   "nbconvert_exporter": "python",
   "pygments_lexer": "ipython3",
   "version": "3.8.5"
  }
 },
 "nbformat": 4,
 "nbformat_minor": 4
}
