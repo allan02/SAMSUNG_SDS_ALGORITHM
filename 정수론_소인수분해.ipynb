{
 "cells": [
  {
   "cell_type": "code",
   "execution_count": 6,
   "metadata": {},
   "outputs": [
    {
     "name": "stdout",
     "output_type": "stream",
     "text": [
      "72\n",
      "2\n",
      "2\n",
      "2\n",
      "3\n",
      "3\n"
     ]
    }
   ],
   "source": [
    "n = int(input())\n",
    "\n",
    "array = [True] * (n + 1)\n",
    "\n",
    "temp = int(n ** 0.5)\n",
    "\n",
    "for i in range(2, temp):\n",
    "    if array[i] == True:\n",
    "        for j in range(i + i, n + 1, i):\n",
    "            array[j] = False\n",
    "            \n",
    "for i in range(2, n + 1):\n",
    "    if array[i] == True:\n",
    "        while n % i == 0:\n",
    "            print(i)\n",
    "            n /= i\n",
    "            \n",
    "            if n == 1:\n",
    "                break"
   ]
  }
 ],
 "metadata": {
  "kernelspec": {
   "display_name": "Python 3",
   "language": "python",
   "name": "python3"
  },
  "language_info": {
   "codemirror_mode": {
    "name": "ipython",
    "version": 3
   },
   "file_extension": ".py",
   "mimetype": "text/x-python",
   "name": "python",
   "nbconvert_exporter": "python",
   "pygments_lexer": "ipython3",
   "version": "3.8.5"
  }
 },
 "nbformat": 4,
 "nbformat_minor": 4
}
