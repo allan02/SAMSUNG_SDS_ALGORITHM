{
 "cells": [
  {
   "cell_type": "code",
   "execution_count": 6,
   "metadata": {},
   "outputs": [
    {
     "name": "stdout",
     "output_type": "stream",
     "text": [
      "3\n",
      "2 2\n",
      "1\n",
      "13 29\n",
      "67863915\n",
      "2 2\n",
      "1\n"
     ]
    }
   ],
   "source": [
    "from itertools import combinations\n",
    "\n",
    "t = int(input())\n",
    "\n",
    "while t > 0:\n",
    "    n, m = map(int, input().split())\n",
    "    answer = 1\n",
    "    for i in range(1, m + 1):\n",
    "        answer *= i\n",
    "    for i in range(1, m - n + 1):\n",
    "        answer //= i\n",
    "    for i in range(1, n + 1):\n",
    "        answer //= i\n",
    "    print(answer)\n",
    "    t -= 1"
   ]
  }
 ],
 "metadata": {
  "kernelspec": {
   "display_name": "Python 3",
   "language": "python",
   "name": "python3"
  },
  "language_info": {
   "codemirror_mode": {
    "name": "ipython",
    "version": 3
   },
   "file_extension": ".py",
   "mimetype": "text/x-python",
   "name": "python",
   "nbconvert_exporter": "python",
   "pygments_lexer": "ipython3",
   "version": "3.8.5"
  }
 },
 "nbformat": 4,
 "nbformat_minor": 4
}
