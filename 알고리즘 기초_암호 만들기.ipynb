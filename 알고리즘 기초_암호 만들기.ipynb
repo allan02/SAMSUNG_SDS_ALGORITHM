{
 "cells": [
  {
   "cell_type": "code",
   "execution_count": 10,
   "metadata": {},
   "outputs": [
    {
     "name": "stdout",
     "output_type": "stream",
     "text": [
      "4 6\n",
      "a t c i s w\n",
      "acis\n",
      "acit\n",
      "aciw\n",
      "acst\n",
      "acsw\n",
      "actw\n",
      "aist\n",
      "aisw\n",
      "aitw\n",
      "astw\n",
      "cist\n",
      "cisw\n",
      "citw\n",
      "istw\n"
     ]
    }
   ],
   "source": [
    "from itertools import combinations\n",
    "\n",
    "n, m = map(int, input().split())\n",
    "\n",
    "array = list(map(ord, input().split()))\n",
    "\n",
    "array.sort()\n",
    "\n",
    "array = combinations(array, n)\n",
    "\n",
    "for ii in array:\n",
    "    temp1 = []\n",
    "    temp2 = []\n",
    "    \n",
    "    for i in ii:\n",
    "        if i == 97 or i == 101 or i == 105 or i == 111 or i == 117:\n",
    "            temp1.append(i)\n",
    "        else:\n",
    "            temp2.append(i)\n",
    "    \n",
    "    if len(temp1) < 1 or len(temp2) < 2:\n",
    "        continue\n",
    "    else:\n",
    "        print(''.join(map(chr, ii)))"
   ]
  },
  {
   "cell_type": "code",
   "execution_count": 8,
   "metadata": {},
   "outputs": [
    {
     "name": "stdout",
     "output_type": "stream",
     "text": [
      "97\n",
      "101\n",
      "105\n",
      "111\n",
      "117\n"
     ]
    }
   ],
   "source": [
    "print(ord('a'))\n",
    "print(ord('e'))\n",
    "print(ord('i'))\n",
    "print(ord('o'))\n",
    "print(ord('u'))"
   ]
  },
  {
   "cell_type": "code",
   "execution_count": null,
   "metadata": {},
   "outputs": [],
   "source": [
    "for i in array:\n",
    "    if i == 97 or i == 101 or i == 105 or i == 111 or i == 117:\n",
    "        temp1.append(i)\n",
    "    else:\n",
    "        temp2.append(i)"
   ]
  }
 ],
 "metadata": {
  "kernelspec": {
   "display_name": "Python 3",
   "language": "python",
   "name": "python3"
  },
  "language_info": {
   "codemirror_mode": {
    "name": "ipython",
    "version": 3
   },
   "file_extension": ".py",
   "mimetype": "text/x-python",
   "name": "python",
   "nbconvert_exporter": "python",
   "pygments_lexer": "ipython3",
   "version": "3.8.5"
  }
 },
 "nbformat": 4,
 "nbformat_minor": 4
}
