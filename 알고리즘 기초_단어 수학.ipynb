{
 "cells": [
  {
   "cell_type": "code",
   "execution_count": 12,
   "metadata": {},
   "outputs": [
    {
     "name": "stdout",
     "output_type": "stream",
     "text": [
      "2\n",
      "aaa\n",
      "aaa\n",
      "1998\n"
     ]
    }
   ],
   "source": [
    "from collections import defaultdict\n",
    "\n",
    "answer = 0\n",
    "\n",
    "n = int(input())\n",
    "array = []\n",
    "check = defaultdict(int)\n",
    "\n",
    "for _ in range(n):\n",
    "    temp = input()\n",
    "    array.append(temp)\n",
    "    temp = list(temp)\n",
    "    index = 1\n",
    "    while temp:\n",
    "        check[temp.pop()] += index\n",
    "        index *= 10\n",
    "\n",
    "check = sorted(check.items(), key = lambda x : -x[1])\n",
    "count = 9\n",
    "\n",
    "for i in range(len(check)):\n",
    "    answer += check[i][1] * count\n",
    "    count -= 1\n",
    "    \n",
    "print(answer)\n"
   ]
  },
  {
   "cell_type": "code",
   "execution_count": null,
   "metadata": {},
   "outputs": [],
   "source": []
  }
 ],
 "metadata": {
  "kernelspec": {
   "display_name": "Python 3",
   "language": "python",
   "name": "python3"
  },
  "language_info": {
   "codemirror_mode": {
    "name": "ipython",
    "version": 3
   },
   "file_extension": ".py",
   "mimetype": "text/x-python",
   "name": "python",
   "nbconvert_exporter": "python",
   "pygments_lexer": "ipython3",
   "version": "3.8.5"
  }
 },
 "nbformat": 4,
 "nbformat_minor": 4
}
