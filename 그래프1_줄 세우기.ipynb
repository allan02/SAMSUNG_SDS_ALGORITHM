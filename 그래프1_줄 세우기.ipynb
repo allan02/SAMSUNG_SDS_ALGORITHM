{
 "cells": [
  {
   "cell_type": "code",
   "execution_count": 1,
   "metadata": {},
   "outputs": [
    {
     "name": "stdout",
     "output_type": "stream",
     "text": [
      "3 2\n",
      "1 3\n",
      "2 3\n",
      "1 2 3 "
     ]
    }
   ],
   "source": [
    "from collections import deque\n",
    "# import sys\n",
    "\n",
    "# input = sys.stdin.readline  \n",
    "\n",
    "n, m = map(int, input().split())\n",
    "\n",
    "array = [[] for _ in range(n + 1)]\n",
    "\n",
    "degree = [0] * (n + 1)\n",
    "\n",
    "degree[0] = -1\n",
    "\n",
    "q = deque()\n",
    "\n",
    "for _ in range(m):\n",
    "    a, b = map(int, input().split())\n",
    "    degree[b] += 1\n",
    "    array[a].append(b)\n",
    "    \n",
    "for i in range(1, n + 1):\n",
    "    if degree[i] == 0:\n",
    "        q.append(i)\n",
    "\n",
    "while q:\n",
    "    now = q.popleft()\n",
    "    print(now, end = ' ')\n",
    "    for i in array[now]:\n",
    "        degree[i] -= 1\n",
    "        if degree[i] == 0:\n",
    "            q.append(i)\n",
    "\n",
    "    \n",
    "    "
   ]
  },
  {
   "cell_type": "code",
   "execution_count": 1,
   "metadata": {},
   "outputs": [
    {
     "name": "stdout",
     "output_type": "stream",
     "text": [
      "1\n",
      "1\n"
     ]
    }
   ],
   "source": [
    "print(1)"
   ]
  },
  {
   "cell_type": "code",
   "execution_count": 7,
   "metadata": {},
   "outputs": [
    {
     "name": "stdout",
     "output_type": "stream",
     "text": [
      "2\n",
      "3\n",
      "2\n",
      "3\n"
     ]
    }
   ],
   "source": [
    "print(2)\n",
    "print(3)"
   ]
  }
 ],
 "metadata": {
  "kernelspec": {
   "display_name": "Python 3",
   "language": "python",
   "name": "python3"
  },
  "language_info": {
   "codemirror_mode": {
    "name": "ipython",
    "version": 3
   },
   "file_extension": ".py",
   "mimetype": "text/x-python",
   "name": "python",
   "nbconvert_exporter": "python",
   "pygments_lexer": "ipython3",
   "version": "3.8.5"
  }
 },
 "nbformat": 4,
 "nbformat_minor": 4
}
