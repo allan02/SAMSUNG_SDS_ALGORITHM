{
 "cells": [
  {
   "cell_type": "code",
   "execution_count": 26,
   "metadata": {},
   "outputs": [
    {
     "name": "stdout",
     "output_type": "stream",
     "text": [
      "2 2 2\n",
      "azaz\n"
     ]
    }
   ],
   "source": [
    "N, M, K = map(int, input().split())\n",
    "arr = [[1]*(M+1) for _ in range(N+1)]\n",
    " \n",
    "for i in range(1, N+1):\n",
    "    for j in range(1, M+1):\n",
    "        arr[i][j] = arr[i-1][j] + arr[i][j-1]\n",
    " \n",
    "if arr[N][M] < K:\n",
    "    print(-1)\n",
    "else:\n",
    "    result = \"\"\n",
    "    while True:\n",
    "        if N == 0 or M == 0:\n",
    "            result += \"z\"*M\n",
    "            result += \"a\"*N\n",
    "            break\n",
    " \n",
    "        flag = arr[N-1][M]\n",
    "        if K <= flag:\n",
    "            result += \"a\"\n",
    "            N -= 1\n",
    "        else:\n",
    "            result += \"z\"\n",
    "            M -= 1\n",
    "            K -= flag\n",
    "    print(result)\n",
    "\n"
   ]
  },
  {
   "cell_type": "code",
   "execution_count": 5,
   "metadata": {},
   "outputs": [
    {
     "name": "stdout",
     "output_type": "stream",
     "text": [
      "aaa\n"
     ]
    }
   ],
   "source": [
    "print('a' * 3)\n",
    "a = 'a' * 3"
   ]
  }
 ],
 "metadata": {
  "kernelspec": {
   "display_name": "Python 3",
   "language": "python",
   "name": "python3"
  },
  "language_info": {
   "codemirror_mode": {
    "name": "ipython",
    "version": 3
   },
   "file_extension": ".py",
   "mimetype": "text/x-python",
   "name": "python",
   "nbconvert_exporter": "python",
   "pygments_lexer": "ipython3",
   "version": "3.8.5"
  }
 },
 "nbformat": 4,
 "nbformat_minor": 4
}
