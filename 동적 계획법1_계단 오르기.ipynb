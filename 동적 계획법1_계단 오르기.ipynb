{
 "cells": [
  {
   "cell_type": "code",
   "execution_count": 8,
   "metadata": {},
   "outputs": [
    {
     "name": "stdout",
     "output_type": "stream",
     "text": [
      "6\n",
      "10\n",
      "20\n",
      "15\n",
      "25\n",
      "10\n",
      "20\n",
      "75\n"
     ]
    }
   ],
   "source": [
    "import sys\n",
    "# input = sys.stdin.readline\n",
    "\n",
    "n = int(input())\n",
    "\n",
    "array = []\n",
    "for _ in range(n):\n",
    "    array.append(int(input()))\n",
    "\n",
    "dp = [0] * n\n",
    "dp[0] = array[0]\n",
    "\n",
    "if n == 1:\n",
    "    print(dp[0])\n",
    "    sys.exit(0)\n",
    "\n",
    "dp[1] = array[0] + array[1]\n",
    "\n",
    "if n == 2:\n",
    "    print(dp[1])\n",
    "    sys.exit(0)\n",
    "    \n",
    "dp[2] = max(array[0] + array[2], array[1] + array[2])\n",
    "\n",
    "for i in range(3, n):\n",
    "    dp[i] = max(dp[i - 2] + array[i],\n",
    "               dp[i - 3] + array[i - 1] + array[i])\n",
    "    \n",
    "print(dp[n - 1])\n",
    "    "
   ]
  }
 ],
 "metadata": {
  "kernelspec": {
   "display_name": "Python 3",
   "language": "python",
   "name": "python3"
  },
  "language_info": {
   "codemirror_mode": {
    "name": "ipython",
    "version": 3
   },
   "file_extension": ".py",
   "mimetype": "text/x-python",
   "name": "python",
   "nbconvert_exporter": "python",
   "pygments_lexer": "ipython3",
   "version": "3.8.5"
  }
 },
 "nbformat": 4,
 "nbformat_minor": 4
}
