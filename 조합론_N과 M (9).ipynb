{
 "cells": [
  {
   "cell_type": "code",
   "execution_count": 14,
   "metadata": {},
   "outputs": [
    {
     "name": "stdout",
     "output_type": "stream",
     "text": [
      "4 2\n",
      "9 7 9 1\n",
      "1 7 \n",
      "1 9 \n",
      "7 1 \n",
      "7 9 \n",
      "9 1 \n",
      "9 7 \n",
      "9 9 \n"
     ]
    }
   ],
   "source": [
    "from itertools import permutations\n",
    "\n",
    "n, m = map(int, input().split())\n",
    "\n",
    "array = list(map(int, input().split()))\n",
    "\n",
    "if m > 1:\n",
    "    for i in sorted(set(permutations(array, m))):\n",
    "        for j in i:\n",
    "            print(j, end = ' ')\n",
    "        print()\n",
    "else:\n",
    "    for i in sorted(set(array)):\n",
    "        print(i)"
   ]
  }
 ],
 "metadata": {
  "kernelspec": {
   "display_name": "Python 3",
   "language": "python",
   "name": "python3"
  },
  "language_info": {
   "codemirror_mode": {
    "name": "ipython",
    "version": 3
   },
   "file_extension": ".py",
   "mimetype": "text/x-python",
   "name": "python",
   "nbconvert_exporter": "python",
   "pygments_lexer": "ipython3",
   "version": "3.8.5"
  }
 },
 "nbformat": 4,
 "nbformat_minor": 4
}
