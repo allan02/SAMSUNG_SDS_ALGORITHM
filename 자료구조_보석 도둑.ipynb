{
 "cells": [
  {
   "cell_type": "code",
   "execution_count": 1,
   "metadata": {},
   "outputs": [
    {
     "name": "stdout",
     "output_type": "stream",
     "text": [
      "\n"
     ]
    },
    {
     "ename": "ValueError",
     "evalue": "not enough values to unpack (expected 2, got 0)",
     "output_type": "error",
     "traceback": [
      "\u001b[1;31m---------------------------------------------------------------------------\u001b[0m",
      "\u001b[1;31mValueError\u001b[0m                                Traceback (most recent call last)",
      "\u001b[1;32m<ipython-input-1-ef32bcb43b7c>\u001b[0m in \u001b[0;36m<module>\u001b[1;34m\u001b[0m\n\u001b[0;32m      1\u001b[0m \u001b[1;32mimport\u001b[0m \u001b[0mheapq\u001b[0m\u001b[1;33m\u001b[0m\u001b[1;33m\u001b[0m\u001b[0m\n\u001b[0;32m      2\u001b[0m \u001b[1;33m\u001b[0m\u001b[0m\n\u001b[1;32m----> 3\u001b[1;33m \u001b[0mn\u001b[0m\u001b[1;33m,\u001b[0m \u001b[0mk\u001b[0m \u001b[1;33m=\u001b[0m \u001b[0mmap\u001b[0m\u001b[1;33m(\u001b[0m\u001b[0mint\u001b[0m\u001b[1;33m,\u001b[0m \u001b[0minput\u001b[0m\u001b[1;33m(\u001b[0m\u001b[1;33m)\u001b[0m\u001b[1;33m.\u001b[0m\u001b[0msplit\u001b[0m\u001b[1;33m(\u001b[0m\u001b[1;33m)\u001b[0m\u001b[1;33m)\u001b[0m\u001b[1;33m\u001b[0m\u001b[1;33m\u001b[0m\u001b[0m\n\u001b[0m\u001b[0;32m      4\u001b[0m \u001b[1;33m\u001b[0m\u001b[0m\n\u001b[0;32m      5\u001b[0m \u001b[0marray\u001b[0m \u001b[1;33m=\u001b[0m \u001b[1;33m[\u001b[0m\u001b[1;33m]\u001b[0m\u001b[1;33m\u001b[0m\u001b[1;33m\u001b[0m\u001b[0m\n",
      "\u001b[1;31mValueError\u001b[0m: not enough values to unpack (expected 2, got 0)"
     ]
    }
   ],
   "source": [
    "import heapq\n",
    "import sys\n",
    "\n",
    "N, K = map(int, input().split())\n",
    "gem = []\n",
    "for _ in range(N):\n",
    "    weight, value = map(int, sys.stdin.readline().split())\n",
    "    heapq.heappush(gem, [weight, value])\n",
    "\n",
    "bag = []    \n",
    "for _ in range(K):\n",
    "    capacity = int(sys.stdin.readline())\n",
    "    heapq.heappush(bag, capacity)\n",
    "\n",
    "total_value = 0 #답이 될 숫자\n",
    "capable_gem = [] #현재 bag의 capacity보다 작은 모든 보석들\n",
    "\n",
    "for _ in range(K):\n",
    "    capacity = heapq.heappop(bag) # Bag의 최솟값을 heappop 해준다. 해당 Bag은 현재의 capacity 즉, 수용량이 된다\n",
    "    \n",
    "    while gem and capacity >= gem[0][0]: #현재 bag의 capacity보다 이하인 모든 보석에 관하여\n",
    "        [weight, value] = heapq.heappop(gem) #최소 무게부터 차례대로 꺼낸다\n",
    "        heapq.heappush(capable_gem, -value) #무게를 제외한 값만 heappush하여 넣어준다(최대힙 구성)\n",
    "    \n",
    "    if capable_gem: #gem 최소보다는 작지만 넣을 수 있는 보석들은 있는 경우\n",
    "        total_value -= heapq.heappop(capable_gem)\n",
    "    elif not gem: #남은 보석이 한 개도 없는 경우\n",
    "        break\n",
    "\n",
    "print(total_value)"
   ]
  }
 ],
 "metadata": {
  "kernelspec": {
   "display_name": "Python 3",
   "language": "python",
   "name": "python3"
  },
  "language_info": {
   "codemirror_mode": {
    "name": "ipython",
    "version": 3
   },
   "file_extension": ".py",
   "mimetype": "text/x-python",
   "name": "python",
   "nbconvert_exporter": "python",
   "pygments_lexer": "ipython3",
   "version": "3.8.5"
  }
 },
 "nbformat": 4,
 "nbformat_minor": 4
}
