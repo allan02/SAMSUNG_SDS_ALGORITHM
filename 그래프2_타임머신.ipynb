{
 "cells": [
  {
   "cell_type": "code",
   "execution_count": 1,
   "metadata": {},
   "outputs": [
    {
     "name": "stdout",
     "output_type": "stream",
     "text": [
      "3 4\n",
      "1 2 4\n",
      "1 3 3\n",
      "2 3 -1\n",
      "3 1 -2\n",
      "4\n",
      "3\n"
     ]
    }
   ],
   "source": [
    "import sys\n",
    "#input = sys.stdin.readline\n",
    "\n",
    "def init():\n",
    "    \n",
    "    n, m = map(int, input().split())\n",
    "    edge_list = []\n",
    "    for _ in range(m):\n",
    "        a, b, c = map(int, input().split())\n",
    "        edge_list.append((a, b, c))\n",
    "    return n, edge_list\n",
    "\n",
    "\n",
    "def bellman_ford():\n",
    "    dist_list = [float('inf') for _ in range(n+1)]\n",
    "    dist_list[1] = 0\n",
    "    for _ in range(n-1):\n",
    "        for s, e, w in edge_list:\n",
    "            dist_list[e] = min(dist_list[e], dist_list[s] + w)\n",
    "    return dist_list\n",
    "\n",
    "\n",
    "def cycle():\n",
    "    for s, e, w in edge_list:\n",
    "        if dist_list[e] > dist_list[s] + w:\n",
    "            return True\n",
    "    return False\n",
    "\n",
    "\n",
    "n, edge_list = init()\n",
    "dist_list = bellman_ford()\n",
    "if cycle():\n",
    "    print(-1)\n",
    "else:\n",
    "    for i in range(2, n+1):\n",
    "        print(dist_list[i] if dist_list[i]!=float('inf') else -1)"
   ]
  }
 ],
 "metadata": {
  "kernelspec": {
   "display_name": "Python 3",
   "language": "python",
   "name": "python3"
  },
  "language_info": {
   "codemirror_mode": {
    "name": "ipython",
    "version": 3
   },
   "file_extension": ".py",
   "mimetype": "text/x-python",
   "name": "python",
   "nbconvert_exporter": "python",
   "pygments_lexer": "ipython3",
   "version": "3.8.5"
  }
 },
 "nbformat": 4,
 "nbformat_minor": 4
}
