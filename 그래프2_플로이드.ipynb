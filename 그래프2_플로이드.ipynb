{
 "cells": [
  {
   "cell_type": "code",
   "execution_count": 8,
   "metadata": {},
   "outputs": [
    {
     "name": "stdout",
     "output_type": "stream",
     "text": [
      "5\n",
      "14\n",
      "1 2 2\n",
      "1 3 3\n",
      "1 4 1\n",
      "1 5 10\n",
      "2 4 2\n",
      "3 4 1\n",
      "3 5 1\n",
      "4 5 3\n",
      "3 5 10\n",
      "3 1 8\n",
      "1 4 2\n",
      "5 1 7\n",
      "3 4 2\n",
      "5 2 4\n",
      "[[1000000000, 1000000000, 1000000000, 1000000000, 1000000000, 1000000000], [1000000000, 0, 2, 4, 2, 5], [1000000000, 2, 0, 4, 2, 4], [1000000000, 4, 4, 0, 2, 5], [1000000000, 2, 2, 2, 0, 3], [1000000000, 5, 4, 5, 3, 0]]\n"
     ]
    }
   ],
   "source": [
    "n = int(input())\n",
    "m = int(input())\n",
    "\n",
    "INF = int(1e9)\n",
    "array = [[INF] * (n + 1) for _ in range(n + 1)]\n",
    "\n",
    "            \n",
    "for _ in range(m):\n",
    "    a, b, c = map(int, input().split())\n",
    "    array[a][b] = min(array[a][b], c)\n",
    "\n",
    "for i in range(1, n + 1):\n",
    "    for j in range(1, n + 1):\n",
    "        if i == j:\n",
    "            array[i][j] = 0    \n",
    "\n",
    "for k in range(1, n + 1):\n",
    "    for i in range(1, n + 1):\n",
    "        for j in range(1, n + 1):\n",
    "            array[i][j] = min(array[i][j], array[i][k] + array[k][j])\n",
    "            \n",
    "for i in range(1, n + 1):\n",
    "    for j in range(1, n + 1):\n",
    "        if array[i][j] == int(1e9):\n",
    "            print(0, end = ' ')\n",
    "        else: \n",
    "            print(array[i][j], end = ' ')\n",
    "    print()"
   ]
  }
 ],
 "metadata": {
  "kernelspec": {
   "display_name": "Python 3",
   "language": "python",
   "name": "python3"
  },
  "language_info": {
   "codemirror_mode": {
    "name": "ipython",
    "version": 3
   },
   "file_extension": ".py",
   "mimetype": "text/x-python",
   "name": "python",
   "nbconvert_exporter": "python",
   "pygments_lexer": "ipython3",
   "version": "3.8.5"
  }
 },
 "nbformat": 4,
 "nbformat_minor": 4
}
