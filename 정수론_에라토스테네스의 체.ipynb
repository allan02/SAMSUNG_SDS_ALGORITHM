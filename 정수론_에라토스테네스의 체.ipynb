{
 "cells": [
  {
   "cell_type": "code",
   "execution_count": 30,
   "metadata": {},
   "outputs": [
    {
     "name": "stdout",
     "output_type": "stream",
     "text": [
      "15 12\n",
      "7\n"
     ]
    }
   ],
   "source": [
    "n, k = map(int, input().split()) \n",
    "cnt = 0 \n",
    "nums = [True] * (n + 1) \n",
    "\n",
    "for i in range(2, len(nums) + 1): \n",
    "    for j in range(i, n + 1, i): \n",
    "        if nums[j] == True: \n",
    "            nums[j] = False \n",
    "            cnt = cnt + 1 \n",
    "            if cnt == k: \n",
    "                print(j) \n",
    "                break\n"
   ]
  }
 ],
 "metadata": {
  "kernelspec": {
   "display_name": "Python 3",
   "language": "python",
   "name": "python3"
  },
  "language_info": {
   "codemirror_mode": {
    "name": "ipython",
    "version": 3
   },
   "file_extension": ".py",
   "mimetype": "text/x-python",
   "name": "python",
   "nbconvert_exporter": "python",
   "pygments_lexer": "ipython3",
   "version": "3.8.5"
  }
 },
 "nbformat": 4,
 "nbformat_minor": 4
}
