{
 "cells": [
  {
   "cell_type": "code",
   "execution_count": 8,
   "metadata": {},
   "outputs": [
    {
     "name": "stdout",
     "output_type": "stream",
     "text": [
      "32\n",
      "0\n"
     ]
    }
   ],
   "source": [
    "a = 1 << 5\n",
    "print(a)\n",
    "\n",
    "b = a & 1111\n",
    "print(b)"
   ]
  },
  {
   "cell_type": "code",
   "execution_count": 10,
   "metadata": {},
   "outputs": [
    {
     "name": "stdout",
     "output_type": "stream",
     "text": [
      "4 2\n",
      "1 1 1 1\n",
      "3\n"
     ]
    }
   ],
   "source": [
    "answer = 0\n",
    "\n",
    "n, m = map(int, input().split())\n",
    "array = list(map(int, input().split()))\n",
    "\n",
    "i = 0\n",
    "j = 1\n",
    "\n",
    "temp = array[i]\n",
    "\n",
    "while i < n:\n",
    "    if temp == m:\n",
    "        answer += 1\n",
    "        temp -= array[i]\n",
    "        i += 1\n",
    "        \n",
    "    if j == n and temp < m:\n",
    "        break\n",
    "    elif temp < m:\n",
    "        temp += array[j]\n",
    "        j += 1\n",
    "    else:\n",
    "        temp -= array[i]\n",
    "        i += 1\n",
    "        \n",
    "print(answer)"
   ]
  },
  {
   "cell_type": "code",
   "execution_count": null,
   "metadata": {},
   "outputs": [],
   "source": []
  },
  {
   "cell_type": "code",
   "execution_count": null,
   "metadata": {},
   "outputs": [],
   "source": []
  }
 ],
 "metadata": {
  "kernelspec": {
   "display_name": "Python 3",
   "language": "python",
   "name": "python3"
  },
  "language_info": {
   "codemirror_mode": {
    "name": "ipython",
    "version": 3
   },
   "file_extension": ".py",
   "mimetype": "text/x-python",
   "name": "python",
   "nbconvert_exporter": "python",
   "pygments_lexer": "ipython3",
   "version": "3.8.5"
  }
 },
 "nbformat": 4,
 "nbformat_minor": 4
}
