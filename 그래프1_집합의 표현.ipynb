{
 "cells": [
  {
   "cell_type": "code",
   "execution_count": 11,
   "metadata": {},
   "outputs": [
    {
     "name": "stdout",
     "output_type": "stream",
     "text": [
      "7 8\n",
      "0 1 3\n",
      "1 1 7\n",
      "NO\n",
      "0 7 6\n",
      "1 7 1\n",
      "NO\n",
      "0 3 7\n",
      "0 4 2\n",
      "0 1 1\n",
      "1 1 1\n",
      "YES\n"
     ]
    }
   ],
   "source": [
    "import sys\n",
    "sys.setrecursionlimit(10**5)\n",
    "#input = sys.stdin.readline\n",
    "\n",
    "\n",
    "n, m = map(int, input().split())\n",
    "\n",
    "array = [0] * (n + 1)\n",
    "\n",
    "for i in range(n + 1):\n",
    "    array[i] = i\n",
    "\n",
    "def find_parent(n):\n",
    "    if array[n] != n:\n",
    "        array[n] = find_parent(array[n])\n",
    "    return array[n]\n",
    "\n",
    "        \n",
    "def union(a, b):\n",
    "    a = find_parent(a)\n",
    "    b = find_parent(b)\n",
    "    \n",
    "    #print(a)\n",
    "    #print(b)\n",
    "    if a < b:\n",
    "        array[b] = a\n",
    "    \n",
    "    else:\n",
    "        array[a] = b    \n",
    "    \n",
    "\n",
    "for _ in range(m):\n",
    "    a, b, c = map(int, input().split())\n",
    "    if a == 0:\n",
    "        union(b, c)\n",
    "        #print(array)\n",
    "        \n",
    "    else:\n",
    "        if find_parent(b) == find_parent(c):\n",
    "            sys.stdout.write(\"YES\\n\")\n",
    "        else:\n",
    "            sys.stdout.write(\"NO\\n\")\n",
    "    \n"
   ]
  },
  {
   "cell_type": "code",
   "execution_count": null,
   "metadata": {},
   "outputs": [],
   "source": []
  },
  {
   "cell_type": "code",
   "execution_count": null,
   "metadata": {},
   "outputs": [],
   "source": []
  },
  {
   "cell_type": "code",
   "execution_count": null,
   "metadata": {},
   "outputs": [],
   "source": []
  },
  {
   "cell_type": "code",
   "execution_count": null,
   "metadata": {},
   "outputs": [],
   "source": []
  },
  {
   "cell_type": "code",
   "execution_count": null,
   "metadata": {},
   "outputs": [],
   "source": []
  }
 ],
 "metadata": {
  "kernelspec": {
   "display_name": "Python 3",
   "language": "python",
   "name": "python3"
  },
  "language_info": {
   "codemirror_mode": {
    "name": "ipython",
    "version": 3
   },
   "file_extension": ".py",
   "mimetype": "text/x-python",
   "name": "python",
   "nbconvert_exporter": "python",
   "pygments_lexer": "ipython3",
   "version": "3.8.5"
  }
 },
 "nbformat": 4,
 "nbformat_minor": 4
}
