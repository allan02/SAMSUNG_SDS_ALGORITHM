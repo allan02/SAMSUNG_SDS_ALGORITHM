{
 "cells": [
  {
   "cell_type": "code",
   "execution_count": 3,
   "metadata": {},
   "outputs": [
    {
     "name": "stdout",
     "output_type": "stream",
     "text": [
      "5\n",
      "4\n",
      "1 3 1 2\n",
      "3\n",
      "1 3 2\n",
      "7\n"
     ]
    }
   ],
   "source": [
    "from collections import defaultdict\n",
    "\n",
    "t = int(input())\n",
    "n = int(input())\n",
    "array1 = list(map(int, input().split()))\n",
    "m = int(input())\n",
    "array2 = list(map(int, input().split()))\n",
    "\n",
    "answer = 0\n",
    "\n",
    "temp = defaultdict(int)\n",
    "\n",
    "for i in range(n):\n",
    "    for j in range(i + 1, n + 1):\n",
    "        temp[sum(array1[i : j])] += 1\n",
    "        \n",
    "for i in range(m):\n",
    "    for j in range(i + 1, m + 1):\n",
    "        answer += temp[t - sum(array2[i : j])]\n",
    "        \n",
    "print(answer)\n"
   ]
  },
  {
   "cell_type": "code",
   "execution_count": 27,
   "metadata": {},
   "outputs": [
    {
     "name": "stdout",
     "output_type": "stream",
     "text": [
      "0\n",
      "1\n",
      "0\n"
     ]
    }
   ],
   "source": [
    "from collections import defaultdict\n",
    "\n",
    "a = defaultdict(int)\n",
    "\n",
    "print(a[0])\n",
    "\n",
    "a[0] += 1\n",
    "\n",
    "print(a[0])\n",
    "print(a[-1])"
   ]
  }
 ],
 "metadata": {
  "kernelspec": {
   "display_name": "Python 3",
   "language": "python",
   "name": "python3"
  },
  "language_info": {
   "codemirror_mode": {
    "name": "ipython",
    "version": 3
   },
   "file_extension": ".py",
   "mimetype": "text/x-python",
   "name": "python",
   "nbconvert_exporter": "python",
   "pygments_lexer": "ipython3",
   "version": "3.8.5"
  }
 },
 "nbformat": 4,
 "nbformat_minor": 4
}
