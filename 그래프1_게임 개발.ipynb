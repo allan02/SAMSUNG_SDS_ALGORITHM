{
 "cells": [
  {
   "cell_type": "code",
   "execution_count": 3,
   "metadata": {},
   "outputs": [
    {
     "name": "stdout",
     "output_type": "stream",
     "text": [
      "5\n",
      "10 -1\n",
      "10 1 -1\n",
      "4 1 -1\n",
      "4 3 1 -1\n",
      "3 3 -1\n",
      "[0, 10, 10, 4, 4, 3]\n",
      "10\n",
      "20\n",
      "14\n",
      "18\n",
      "17\n"
     ]
    }
   ],
   "source": [
    "import sys\n",
    "from collections import deque\n",
    "# input = sys.stdin.readline\n",
    "\n",
    "n = int(input())\n",
    "\n",
    "answer = 0\n",
    "\n",
    "array = [[] for _ in range(n + 1)]\n",
    "cost = [0] * (n + 1)\n",
    "answer = [0] * (n + 1)\n",
    "\n",
    "indegree = [0] * (n + 1)\n",
    "indegree[0] = -1\n",
    "\n",
    "for i in range(1, n + 1):\n",
    "    temp = list(map(int, input().split()))\n",
    "    cost[i] = temp[0]\n",
    "    for j in temp[1:]:\n",
    "        if j != -1:\n",
    "            array[j].append(i)\n",
    "            indegree[i] += 1\n",
    "        else:\n",
    "            break\n",
    "\n",
    "for i in range(1, n + 1):\n",
    "    answer[i] = cost[i]\n",
    "    \n",
    "q = deque()\n",
    "            \n",
    "for i in range(1, n + 1):\n",
    "    if indegree[i] == 0:\n",
    "        answer[i] = cost[i]\n",
    "        q.append(i)\n",
    "\n",
    "#print(answer)\n",
    "\n",
    "while q:\n",
    "    length = len(q)\n",
    "    now = q.popleft()\n",
    "    for j in array[now]:\n",
    "        indegree[j] -= 1\n",
    "        answer[j] = max(answer[j], cost[j] + answer[now])\n",
    "        if indegree[j] == 0:\n",
    "            q.append(j)\n",
    "            \n",
    "                \n",
    "for i in range(1, n + 1):\n",
    "    print(answer[i])\n",
    "        "
   ]
  },
  {
   "cell_type": "code",
   "execution_count": 4,
   "metadata": {},
   "outputs": [
    {
     "name": "stdout",
     "output_type": "stream",
     "text": [
      "10 1\n",
      "[10, 1]\n"
     ]
    }
   ],
   "source": [
    "a = list(map(int, input().split()))\n",
    "\n",
    "print(a)"
   ]
  },
  {
   "cell_type": "code",
   "execution_count": 10,
   "metadata": {},
   "outputs": [
    {
     "name": "stdout",
     "output_type": "stream",
     "text": [
      "deque([3])\n",
      "1\n"
     ]
    }
   ],
   "source": [
    "from collections import deque\n",
    "\n",
    "a = deque()\n",
    "\n",
    "a.append(3)\n",
    "\n",
    "print(a)\n",
    "print(len(a))"
   ]
  }
 ],
 "metadata": {
  "kernelspec": {
   "display_name": "Python 3",
   "language": "python",
   "name": "python3"
  },
  "language_info": {
   "codemirror_mode": {
    "name": "ipython",
    "version": 3
   },
   "file_extension": ".py",
   "mimetype": "text/x-python",
   "name": "python",
   "nbconvert_exporter": "python",
   "pygments_lexer": "ipython3",
   "version": "3.8.5"
  }
 },
 "nbformat": 4,
 "nbformat_minor": 4
}
