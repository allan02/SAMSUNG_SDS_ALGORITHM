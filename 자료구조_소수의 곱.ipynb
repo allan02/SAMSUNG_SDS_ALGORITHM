{
 "cells": [
  {
   "cell_type": "code",
   "execution_count": 13,
   "metadata": {},
   "outputs": [
    {
     "name": "stdout",
     "output_type": "stream",
     "text": [
      "4 19\n",
      "2 3 5 7\n",
      "27\n"
     ]
    }
   ],
   "source": [
    "import heapq\n",
    "\n",
    "k, n = map(int, input().split())\n",
    "\n",
    "array = list(map(int, input().split()))\n",
    "\n",
    "h = []\n",
    "\n",
    "ans = 0\n",
    "\n",
    "for i in array:\n",
    "    heapq.heappush(h, i)\n",
    "    \n",
    "for i in range(n):\n",
    "    now = heapq.heappop(h)\n",
    "    for j in array:\n",
    "        heapq.heappush(h, now * j)\n",
    "        if now % j == 0:\n",
    "            break\n",
    "    \n",
    "else:\n",
    "    print(now)"
   ]
  }
 ],
 "metadata": {
  "kernelspec": {
   "display_name": "Python 3",
   "language": "python",
   "name": "python3"
  },
  "language_info": {
   "codemirror_mode": {
    "name": "ipython",
    "version": 3
   },
   "file_extension": ".py",
   "mimetype": "text/x-python",
   "name": "python",
   "nbconvert_exporter": "python",
   "pygments_lexer": "ipython3",
   "version": "3.8.5"
  }
 },
 "nbformat": 4,
 "nbformat_minor": 4
}
