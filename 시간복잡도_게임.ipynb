{
 "cells": [
  {
   "cell_type": "code",
   "execution_count": 14,
   "metadata": {},
   "outputs": [
    {
     "name": "stdout",
     "output_type": "stream",
     "text": [
      "100 80\n",
      "6\n"
     ]
    }
   ],
   "source": [
    "x, y = map(int, input().split())\n",
    "\n",
    "answer = 0\n",
    "now = int((y * 100) / x)\n",
    "\n",
    "s = 0\n",
    "l = 1000000000\n",
    "\n",
    "if now >= 99 :\n",
    "    print(-1)\n",
    "\n",
    "else:\n",
    "    while s <= l:\n",
    "        mid = (s + l) // 2\n",
    "        if now < int(((y + mid) * 100) / (x + mid)):\n",
    "            l = mid - 1\n",
    "            answer = mid\n",
    "        else:\n",
    "            s = mid + 1\n",
    "\n",
    "    print(answer)"
   ]
  },
  {
   "cell_type": "markdown",
   "metadata": {},
   "source": [
    "30000000 29999999"
   ]
  },
  {
   "cell_type": "code",
   "execution_count": 4,
   "metadata": {},
   "outputs": [
    {
     "name": "stdout",
     "output_type": "stream",
     "text": [
      "30000000\n",
      "30000000\n",
      "30000000\n",
      "0\n",
      "0\n"
     ]
    }
   ],
   "source": [
    "a = 30000000\n",
    "print(a)\n",
    "print(int(a))\n",
    "\n",
    "print(29999999 + 1)\n",
    "\n",
    "print(29999999 // 30000000)\n",
    "print(30000000 // 30000001)"
   ]
  }
 ],
 "metadata": {
  "kernelspec": {
   "display_name": "Python 3",
   "language": "python",
   "name": "python3"
  },
  "language_info": {
   "codemirror_mode": {
    "name": "ipython",
    "version": 3
   },
   "file_extension": ".py",
   "mimetype": "text/x-python",
   "name": "python",
   "nbconvert_exporter": "python",
   "pygments_lexer": "ipython3",
   "version": "3.8.5"
  }
 },
 "nbformat": 4,
 "nbformat_minor": 4
}
