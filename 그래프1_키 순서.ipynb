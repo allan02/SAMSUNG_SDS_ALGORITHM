{
 "cells": [
  {
   "cell_type": "code",
   "execution_count": 7,
   "metadata": {},
   "outputs": [
    {
     "name": "stdout",
     "output_type": "stream",
     "text": [
      "6 6\n",
      "1 5\n",
      "3 4\n",
      "5 4\n",
      "4 2\n",
      "4 6\n",
      "5 2\n",
      "1\n"
     ]
    }
   ],
   "source": [
    "import sys\n",
    "\n",
    "#input = sys.stdin.readline\n",
    "answer = 0\n",
    "\n",
    "n, m = map(int, input().split())\n",
    "\n",
    "array = [[0] * (n + 1) for _ in range(n + 1)]\n",
    "\n",
    "for _ in range(m):\n",
    "    a, b = map(int, input().split())\n",
    "    array[a][b] = 1\n",
    "    \n",
    "for k in range(1, n + 1):\n",
    "    for i in range(1, n + 1):\n",
    "        for j in range(1, n + 1):\n",
    "            if (array[i][k] == 1 and array[k][j] == 1) or array[i][j] == 1:\n",
    "                array[i][j] = 1\n",
    "                \n",
    "for i in range(1, n + 1):\n",
    "    temp = 0\n",
    "    for j in range(1, n + 1):\n",
    "        temp += array[i][j] + array[j][i]\n",
    "    if temp == n - 1:\n",
    "        answer += 1\n",
    "\n",
    "print(answer)  "
   ]
  },
  {
   "cell_type": "code",
   "execution_count": null,
   "metadata": {},
   "outputs": [],
   "source": []
  }
 ],
 "metadata": {
  "kernelspec": {
   "display_name": "Python 3",
   "language": "python",
   "name": "python3"
  },
  "language_info": {
   "codemirror_mode": {
    "name": "ipython",
    "version": 3
   },
   "file_extension": ".py",
   "mimetype": "text/x-python",
   "name": "python",
   "nbconvert_exporter": "python",
   "pygments_lexer": "ipython3",
   "version": "3.8.5"
  }
 },
 "nbformat": 4,
 "nbformat_minor": 4
}
