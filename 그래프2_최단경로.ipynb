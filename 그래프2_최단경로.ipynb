{
 "cells": [
  {
   "cell_type": "code",
   "execution_count": 25,
   "metadata": {
    "scrolled": true
   },
   "outputs": [
    {
     "name": "stdout",
     "output_type": "stream",
     "text": [
      "5 6\n",
      "1\n",
      "5 1 1\n",
      "1 2 2\n",
      "1 3 3\n",
      "2 3 4\n",
      "2 4 5\n",
      "3 4 6\n",
      "0\n",
      "2\n",
      "3\n",
      "7\n",
      "INF\n"
     ]
    }
   ],
   "source": [
    "import heapq\n",
    "from collections import deque\n",
    "\n",
    "INF = int(1e9)\n",
    "\n",
    "v, e = map(int, input().split())\n",
    "\n",
    "k = int(input())\n",
    "\n",
    "array = [[] for _ in range(v + 1)]\n",
    "distance = [INF] * (v + 1)\n",
    "\n",
    "\n",
    "q = []\n",
    "heapq.heappush(q, (0, k))\n",
    "distance[k] = 0\n",
    "\n",
    "for _ in range(e):\n",
    "    a, b, cost = map(int, input().split())\n",
    "    array[a].append((b, cost))\n",
    "\n",
    "\n",
    "\n",
    "while q:\n",
    "    dist, now = heapq.heappop(q)\n",
    "    if distance[now] < dist:\n",
    "        continue\n",
    "    \n",
    "    for i in array[now]:\n",
    "        cost = dist + i[1]\n",
    "        if cost < distance[i[0]]:\n",
    "            distance[i[0]] = cost\n",
    "            heapq.heappush(q, (cost, i[0]))\n",
    "        \n",
    "for i in range(1, v + 1):\n",
    "    if distance[i] != INF:\n",
    "        print(distance[i])\n",
    "    else:\n",
    "        print('INF')"
   ]
  },
  {
   "cell_type": "code",
   "execution_count": 3,
   "metadata": {},
   "outputs": [
    {
     "name": "stdout",
     "output_type": "stream",
     "text": [
      "[1, 2, 123, 4]\n",
      "2\n"
     ]
    }
   ],
   "source": [
    "count = 1\n",
    "array = [1,2,3,4]\n",
    "\n",
    "def sol():\n",
    "    global count\n",
    "    count += 1\n",
    "    #count += 1\n",
    "    array[2] = 123\n",
    "    \n",
    "sol()\n",
    "\n",
    "print(array)\n",
    "print(count)"
   ]
  }
 ],
 "metadata": {
  "kernelspec": {
   "display_name": "Python 3",
   "language": "python",
   "name": "python3"
  },
  "language_info": {
   "codemirror_mode": {
    "name": "ipython",
    "version": 3
   },
   "file_extension": ".py",
   "mimetype": "text/x-python",
   "name": "python",
   "nbconvert_exporter": "python",
   "pygments_lexer": "ipython3",
   "version": "3.8.5"
  }
 },
 "nbformat": 4,
 "nbformat_minor": 4
}
