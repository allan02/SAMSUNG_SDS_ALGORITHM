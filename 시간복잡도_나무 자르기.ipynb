{
 "cells": [
  {
   "cell_type": "code",
   "execution_count": 6,
   "metadata": {},
   "outputs": [
    {
     "name": "stdout",
     "output_type": "stream",
     "text": [
      "4 7\n",
      "20 15 10 17\n",
      "15\n"
     ]
    }
   ],
   "source": [
    "n, m = map(int, input().split())\n",
    "answer = 0\n",
    "\n",
    "array = list(map(int, input().split()))\n",
    "array.sort()\n",
    "\n",
    "#start = array[0]\n",
    "start = 0\n",
    "end = array[n - 1]\n",
    "\n",
    "while start <= end:\n",
    "    mid = (start + end) // 2\n",
    "    total = 0\n",
    "    for i in array:\n",
    "        if i > mid:\n",
    "            total += (i - mid)\n",
    "    \n",
    "    if total == m:\n",
    "        answer = mid\n",
    "        break\n",
    "    \n",
    "    elif total > m:\n",
    "        answer = mid\n",
    "        start = mid + 1\n",
    "    \n",
    "    else:\n",
    "        end = mid - 1\n",
    "        \n",
    "print(answer)\n",
    "        \n",
    "        "
   ]
  }
 ],
 "metadata": {
  "kernelspec": {
   "display_name": "Python 3",
   "language": "python",
   "name": "python3"
  },
  "language_info": {
   "codemirror_mode": {
    "name": "ipython",
    "version": 3
   },
   "file_extension": ".py",
   "mimetype": "text/x-python",
   "name": "python",
   "nbconvert_exporter": "python",
   "pygments_lexer": "ipython3",
   "version": "3.8.5"
  }
 },
 "nbformat": 4,
 "nbformat_minor": 4
}
